{
 "cells": [
  {
   "cell_type": "markdown",
   "metadata": {},
   "source": [
    "[![Open In Colab](https://colab.research.google.com/assets/colab-badge.svg)](https://colab.research.google.com/github/jorge-cardeno/inteligencia-artificial-proyectos/blob/main/02-preprocesado.ipynb)"
   ]
  },
  {
   "cell_type": "markdown",
   "metadata": {},
   "source": [
    "### Instalacion e Importacion de Librerias"
   ]
  },
  {
   "cell_type": "code",
   "execution_count": null,
   "metadata": {},
   "outputs": [
    {
     "name": "stdout",
     "output_type": "stream",
     "text": [
      "Requirement already satisfied: pandas in ./venv/lib/python3.10/site-packages (2.1.3)\n",
      "Collecting matplot\n",
      "  Downloading matplot-0.1.9-py2.py3-none-any.whl (5.0 kB)\n",
      "Requirement already satisfied: seaborn in ./venv/lib/python3.10/site-packages (0.13.0)\n",
      "Requirement already satisfied: scikit-learn in ./venv/lib/python3.10/site-packages (1.3.2)\n",
      "Requirement already satisfied: numpy in ./venv/lib/python3.10/site-packages (1.26.2)\n",
      "Requirement already satisfied: jupyter in ./venv/lib/python3.10/site-packages (1.0.0)\n",
      "Requirement already satisfied: notebook in ./venv/lib/python3.10/site-packages (7.0.6)\n",
      "Requirement already satisfied: python-dateutil>=2.8.2 in ./venv/lib/python3.10/site-packages (from pandas) (2.8.2)\n",
      "Requirement already satisfied: pytz>=2020.1 in ./venv/lib/python3.10/site-packages (from pandas) (2023.3.post1)\n",
      "Requirement already satisfied: tzdata>=2022.1 in ./venv/lib/python3.10/site-packages (from pandas) (2023.3)\n",
      "Collecting pyloco>=0.0.134 (from matplot)\n",
      "  Downloading pyloco-0.0.139-py2.py3-none-any.whl (60 kB)\n",
      "\u001b[2K     \u001b[38;2;114;156;31m━━━━━━━━━━━━━━━━━━━━━━━━━━━━━━━━━━━━━━━━\u001b[0m \u001b[32m60.2/60.2 kB\u001b[0m \u001b[31m1.3 MB/s\u001b[0m eta \u001b[36m0:00:00\u001b[0m MB/s\u001b[0m eta \u001b[36m0:00:01\u001b[0m\n",
      "\u001b[?25hRequirement already satisfied: matplotlib>=3.1.1 in ./venv/lib/python3.10/site-packages (from matplot) (3.8.2)\n",
      "Requirement already satisfied: scipy>=1.5.0 in ./venv/lib/python3.10/site-packages (from scikit-learn) (1.11.4)\n",
      "Requirement already satisfied: joblib>=1.1.1 in ./venv/lib/python3.10/site-packages (from scikit-learn) (1.3.2)\n",
      "Requirement already satisfied: threadpoolctl>=2.0.0 in ./venv/lib/python3.10/site-packages (from scikit-learn) (3.2.0)\n",
      "Requirement already satisfied: qtconsole in ./venv/lib/python3.10/site-packages (from jupyter) (5.5.1)\n",
      "Requirement already satisfied: jupyter-console in ./venv/lib/python3.10/site-packages (from jupyter) (6.6.3)\n",
      "Requirement already satisfied: nbconvert in ./venv/lib/python3.10/site-packages (from jupyter) (7.11.0)\n",
      "Requirement already satisfied: ipykernel in ./venv/lib/python3.10/site-packages (from jupyter) (6.26.0)\n",
      "Requirement already satisfied: ipywidgets in ./venv/lib/python3.10/site-packages (from jupyter) (8.1.1)\n",
      "Requirement already satisfied: jupyter-server<3,>=2.4.0 in ./venv/lib/python3.10/site-packages (from notebook) (2.10.1)\n",
      "Requirement already satisfied: jupyterlab-server<3,>=2.22.1 in ./venv/lib/python3.10/site-packages (from notebook) (2.25.2)\n",
      "Requirement already satisfied: jupyterlab<5,>=4.0.2 in ./venv/lib/python3.10/site-packages (from notebook) (4.0.9)\n",
      "Requirement already satisfied: notebook-shim<0.3,>=0.2 in ./venv/lib/python3.10/site-packages (from notebook) (0.2.3)\n",
      "Requirement already satisfied: tornado>=6.2.0 in ./venv/lib/python3.10/site-packages (from notebook) (6.3.3)\n",
      "Requirement already satisfied: anyio>=3.1.0 in ./venv/lib/python3.10/site-packages (from jupyter-server<3,>=2.4.0->notebook) (4.1.0)\n",
      "Requirement already satisfied: argon2-cffi in ./venv/lib/python3.10/site-packages (from jupyter-server<3,>=2.4.0->notebook) (23.1.0)\n",
      "Requirement already satisfied: jinja2 in ./venv/lib/python3.10/site-packages (from jupyter-server<3,>=2.4.0->notebook) (3.1.2)\n",
      "Requirement already satisfied: jupyter-client>=7.4.4 in ./venv/lib/python3.10/site-packages (from jupyter-server<3,>=2.4.0->notebook) (8.6.0)\n",
      "Requirement already satisfied: jupyter-core!=5.0.*,>=4.12 in ./venv/lib/python3.10/site-packages (from jupyter-server<3,>=2.4.0->notebook) (5.5.0)\n",
      "Requirement already satisfied: jupyter-events>=0.9.0 in ./venv/lib/python3.10/site-packages (from jupyter-server<3,>=2.4.0->notebook) (0.9.0)\n",
      "Requirement already satisfied: jupyter-server-terminals in ./venv/lib/python3.10/site-packages (from jupyter-server<3,>=2.4.0->notebook) (0.4.4)\n",
      "Requirement already satisfied: nbformat>=5.3.0 in ./venv/lib/python3.10/site-packages (from jupyter-server<3,>=2.4.0->notebook) (5.9.2)\n",
      "Requirement already satisfied: overrides in ./venv/lib/python3.10/site-packages (from jupyter-server<3,>=2.4.0->notebook) (7.4.0)\n",
      "Requirement already satisfied: packaging in ./venv/lib/python3.10/site-packages (from jupyter-server<3,>=2.4.0->notebook) (23.2)\n",
      "Requirement already satisfied: prometheus-client in ./venv/lib/python3.10/site-packages (from jupyter-server<3,>=2.4.0->notebook) (0.19.0)\n",
      "Requirement already satisfied: pyzmq>=24 in ./venv/lib/python3.10/site-packages (from jupyter-server<3,>=2.4.0->notebook) (25.1.1)\n",
      "Requirement already satisfied: send2trash>=1.8.2 in ./venv/lib/python3.10/site-packages (from jupyter-server<3,>=2.4.0->notebook) (1.8.2)\n",
      "Requirement already satisfied: terminado>=0.8.3 in ./venv/lib/python3.10/site-packages (from jupyter-server<3,>=2.4.0->notebook) (0.18.0)\n",
      "Requirement already satisfied: traitlets>=5.6.0 in ./venv/lib/python3.10/site-packages (from jupyter-server<3,>=2.4.0->notebook) (5.13.0)\n",
      "Requirement already satisfied: websocket-client in ./venv/lib/python3.10/site-packages (from jupyter-server<3,>=2.4.0->notebook) (1.6.4)\n",
      "Requirement already satisfied: async-lru>=1.0.0 in ./venv/lib/python3.10/site-packages (from jupyterlab<5,>=4.0.2->notebook) (2.0.4)\n",
      "Requirement already satisfied: jupyter-lsp>=2.0.0 in ./venv/lib/python3.10/site-packages (from jupyterlab<5,>=4.0.2->notebook) (2.2.0)\n",
      "Requirement already satisfied: tomli in ./venv/lib/python3.10/site-packages (from jupyterlab<5,>=4.0.2->notebook) (2.0.1)\n",
      "Requirement already satisfied: babel>=2.10 in ./venv/lib/python3.10/site-packages (from jupyterlab-server<3,>=2.22.1->notebook) (2.13.1)\n",
      "Requirement already satisfied: json5>=0.9.0 in ./venv/lib/python3.10/site-packages (from jupyterlab-server<3,>=2.22.1->notebook) (0.9.14)\n",
      "Requirement already satisfied: jsonschema>=4.18.0 in ./venv/lib/python3.10/site-packages (from jupyterlab-server<3,>=2.22.1->notebook) (4.20.0)\n",
      "Requirement already satisfied: requests>=2.31 in ./venv/lib/python3.10/site-packages (from jupyterlab-server<3,>=2.22.1->notebook) (2.31.0)\n",
      "Requirement already satisfied: contourpy>=1.0.1 in ./venv/lib/python3.10/site-packages (from matplotlib>=3.1.1->matplot) (1.2.0)\n",
      "Requirement already satisfied: cycler>=0.10 in ./venv/lib/python3.10/site-packages (from matplotlib>=3.1.1->matplot) (0.12.1)\n",
      "Requirement already satisfied: fonttools>=4.22.0 in ./venv/lib/python3.10/site-packages (from matplotlib>=3.1.1->matplot) (4.45.1)\n",
      "Requirement already satisfied: kiwisolver>=1.3.1 in ./venv/lib/python3.10/site-packages (from matplotlib>=3.1.1->matplot) (1.4.5)\n",
      "Requirement already satisfied: pillow>=8 in ./venv/lib/python3.10/site-packages (from matplotlib>=3.1.1->matplot) (10.1.0)\n",
      "Requirement already satisfied: pyparsing>=2.3.1 in ./venv/lib/python3.10/site-packages (from matplotlib>=3.1.1->matplot) (3.1.1)\n",
      "Requirement already satisfied: beautifulsoup4 in ./venv/lib/python3.10/site-packages (from nbconvert->jupyter) (4.12.2)\n",
      "Requirement already satisfied: bleach!=5.0.0 in ./venv/lib/python3.10/site-packages (from nbconvert->jupyter) (6.1.0)\n",
      "Requirement already satisfied: defusedxml in ./venv/lib/python3.10/site-packages (from nbconvert->jupyter) (0.7.1)\n",
      "Requirement already satisfied: jupyterlab-pygments in ./venv/lib/python3.10/site-packages (from nbconvert->jupyter) (0.3.0)\n",
      "Requirement already satisfied: markupsafe>=2.0 in ./venv/lib/python3.10/site-packages (from nbconvert->jupyter) (2.1.3)\n",
      "Requirement already satisfied: mistune<4,>=2.0.3 in ./venv/lib/python3.10/site-packages (from nbconvert->jupyter) (3.0.2)\n",
      "Requirement already satisfied: nbclient>=0.5.0 in ./venv/lib/python3.10/site-packages (from nbconvert->jupyter) (0.9.0)\n",
      "Requirement already satisfied: pandocfilters>=1.4.1 in ./venv/lib/python3.10/site-packages (from nbconvert->jupyter) (1.5.0)\n",
      "Requirement already satisfied: pygments>=2.4.1 in ./venv/lib/python3.10/site-packages (from nbconvert->jupyter) (2.17.2)\n",
      "Requirement already satisfied: tinycss2 in ./venv/lib/python3.10/site-packages (from nbconvert->jupyter) (1.2.1)\n",
      "Collecting ushlex (from pyloco>=0.0.134->matplot)\n",
      "  Downloading ushlex-0.99.1.tar.gz (4.7 kB)\n",
      "  Installing build dependencies ... \u001b[?25ldone\n",
      "\u001b[?25h  Getting requirements to build wheel ... \u001b[?25ldone\n",
      "\u001b[?25h  Preparing metadata (pyproject.toml) ... \u001b[?25ldone\n",
      "\u001b[?25hCollecting twine (from pyloco>=0.0.134->matplot)\n",
      "  Downloading twine-4.0.2-py3-none-any.whl (36 kB)\n",
      "Collecting typing (from pyloco>=0.0.134->matplot)\n",
      "  Downloading typing-3.7.4.3.tar.gz (78 kB)\n",
      "\u001b[2K     \u001b[38;2;114;156;31m━━━━━━━━━━━━━━━━━━━━━━━━━━━━━━━━━━━━━━━━\u001b[0m \u001b[32m78.6/78.6 kB\u001b[0m \u001b[31m3.4 MB/s\u001b[0m eta \u001b[36m0:00:00\u001b[0m\n",
      "\u001b[?25h  Installing build dependencies ... \u001b[?25ldone\n",
      "\u001b[?25h  Getting requirements to build wheel ... \u001b[?25ldone\n",
      "\u001b[?25h  Preparing metadata (pyproject.toml) ... \u001b[?25ldone\n",
      "\u001b[?25hCollecting SimpleWebSocketServer (from pyloco>=0.0.134->matplot)\n",
      "  Downloading SimpleWebSocketServer-0.1.2.tar.gz (10 kB)\n",
      "  Installing build dependencies ... \u001b[?25ldone\n",
      "\u001b[?25h  Getting requirements to build wheel ... \u001b[?25ldone\n",
      "\u001b[?25h  Preparing metadata (pyproject.toml) ... \u001b[?25ldone\n",
      "\u001b[?25hRequirement already satisfied: six>=1.5 in ./venv/lib/python3.10/site-packages (from python-dateutil>=2.8.2->pandas) (1.16.0)\n",
      "Requirement already satisfied: comm>=0.1.1 in ./venv/lib/python3.10/site-packages (from ipykernel->jupyter) (0.2.0)\n",
      "Requirement already satisfied: debugpy>=1.6.5 in ./venv/lib/python3.10/site-packages (from ipykernel->jupyter) (1.8.0)\n",
      "Requirement already satisfied: ipython>=7.23.1 in ./venv/lib/python3.10/site-packages (from ipykernel->jupyter) (8.18.0)\n",
      "Requirement already satisfied: matplotlib-inline>=0.1 in ./venv/lib/python3.10/site-packages (from ipykernel->jupyter) (0.1.6)\n",
      "Requirement already satisfied: nest-asyncio in ./venv/lib/python3.10/site-packages (from ipykernel->jupyter) (1.5.8)\n",
      "Requirement already satisfied: psutil in ./venv/lib/python3.10/site-packages (from ipykernel->jupyter) (5.9.6)\n",
      "Requirement already satisfied: widgetsnbextension~=4.0.9 in ./venv/lib/python3.10/site-packages (from ipywidgets->jupyter) (4.0.9)\n",
      "Requirement already satisfied: jupyterlab-widgets~=3.0.9 in ./venv/lib/python3.10/site-packages (from ipywidgets->jupyter) (3.0.9)\n",
      "Requirement already satisfied: prompt-toolkit>=3.0.30 in ./venv/lib/python3.10/site-packages (from jupyter-console->jupyter) (3.0.41)\n",
      "Requirement already satisfied: qtpy>=2.4.0 in ./venv/lib/python3.10/site-packages (from qtconsole->jupyter) (2.4.1)\n",
      "Requirement already satisfied: idna>=2.8 in ./venv/lib/python3.10/site-packages (from anyio>=3.1.0->jupyter-server<3,>=2.4.0->notebook) (3.6)\n",
      "Requirement already satisfied: sniffio>=1.1 in ./venv/lib/python3.10/site-packages (from anyio>=3.1.0->jupyter-server<3,>=2.4.0->notebook) (1.3.0)\n",
      "Requirement already satisfied: exceptiongroup>=1.0.2 in ./venv/lib/python3.10/site-packages (from anyio>=3.1.0->jupyter-server<3,>=2.4.0->notebook) (1.2.0)\n",
      "Requirement already satisfied: typing-extensions>=4.0.0 in ./venv/lib/python3.10/site-packages (from async-lru>=1.0.0->jupyterlab<5,>=4.0.2->notebook) (4.8.0)\n",
      "Requirement already satisfied: webencodings in ./venv/lib/python3.10/site-packages (from bleach!=5.0.0->nbconvert->jupyter) (0.5.1)\n",
      "Requirement already satisfied: decorator in ./venv/lib/python3.10/site-packages (from ipython>=7.23.1->ipykernel->jupyter) (5.1.1)\n",
      "Requirement already satisfied: jedi>=0.16 in ./venv/lib/python3.10/site-packages (from ipython>=7.23.1->ipykernel->jupyter) (0.19.1)\n",
      "Requirement already satisfied: stack-data in ./venv/lib/python3.10/site-packages (from ipython>=7.23.1->ipykernel->jupyter) (0.6.3)\n",
      "Requirement already satisfied: pexpect>4.3 in ./venv/lib/python3.10/site-packages (from ipython>=7.23.1->ipykernel->jupyter) (4.9.0)\n",
      "Requirement already satisfied: attrs>=22.2.0 in ./venv/lib/python3.10/site-packages (from jsonschema>=4.18.0->jupyterlab-server<3,>=2.22.1->notebook) (23.1.0)\n",
      "Requirement already satisfied: jsonschema-specifications>=2023.03.6 in ./venv/lib/python3.10/site-packages (from jsonschema>=4.18.0->jupyterlab-server<3,>=2.22.1->notebook) (2023.11.1)\n",
      "Requirement already satisfied: referencing>=0.28.4 in ./venv/lib/python3.10/site-packages (from jsonschema>=4.18.0->jupyterlab-server<3,>=2.22.1->notebook) (0.31.0)\n",
      "Requirement already satisfied: rpds-py>=0.7.1 in ./venv/lib/python3.10/site-packages (from jsonschema>=4.18.0->jupyterlab-server<3,>=2.22.1->notebook) (0.13.1)\n",
      "Requirement already satisfied: platformdirs>=2.5 in ./venv/lib/python3.10/site-packages (from jupyter-core!=5.0.*,>=4.12->jupyter-server<3,>=2.4.0->notebook) (4.0.0)\n",
      "Requirement already satisfied: python-json-logger>=2.0.4 in ./venv/lib/python3.10/site-packages (from jupyter-events>=0.9.0->jupyter-server<3,>=2.4.0->notebook) (2.0.7)\n",
      "Requirement already satisfied: pyyaml>=5.3 in ./venv/lib/python3.10/site-packages (from jupyter-events>=0.9.0->jupyter-server<3,>=2.4.0->notebook) (6.0.1)\n",
      "Requirement already satisfied: rfc3339-validator in ./venv/lib/python3.10/site-packages (from jupyter-events>=0.9.0->jupyter-server<3,>=2.4.0->notebook) (0.1.4)\n",
      "Requirement already satisfied: rfc3986-validator>=0.1.1 in ./venv/lib/python3.10/site-packages (from jupyter-events>=0.9.0->jupyter-server<3,>=2.4.0->notebook) (0.1.1)\n",
      "Requirement already satisfied: fastjsonschema in ./venv/lib/python3.10/site-packages (from nbformat>=5.3.0->jupyter-server<3,>=2.4.0->notebook) (2.19.0)\n",
      "Requirement already satisfied: wcwidth in ./venv/lib/python3.10/site-packages (from prompt-toolkit>=3.0.30->jupyter-console->jupyter) (0.2.12)\n",
      "Requirement already satisfied: charset-normalizer<4,>=2 in ./venv/lib/python3.10/site-packages (from requests>=2.31->jupyterlab-server<3,>=2.22.1->notebook) (3.3.2)\n",
      "Requirement already satisfied: urllib3<3,>=1.21.1 in ./venv/lib/python3.10/site-packages (from requests>=2.31->jupyterlab-server<3,>=2.22.1->notebook) (2.1.0)\n",
      "Requirement already satisfied: certifi>=2017.4.17 in ./venv/lib/python3.10/site-packages (from requests>=2.31->jupyterlab-server<3,>=2.22.1->notebook) (2023.11.17)\n",
      "Requirement already satisfied: ptyprocess in ./venv/lib/python3.10/site-packages (from terminado>=0.8.3->jupyter-server<3,>=2.4.0->notebook) (0.7.0)\n",
      "Requirement already satisfied: argon2-cffi-bindings in ./venv/lib/python3.10/site-packages (from argon2-cffi->jupyter-server<3,>=2.4.0->notebook) (21.2.0)\n",
      "Requirement already satisfied: soupsieve>1.2 in ./venv/lib/python3.10/site-packages (from beautifulsoup4->nbconvert->jupyter) (2.5)\n",
      "Collecting pkginfo>=1.8.1 (from twine->pyloco>=0.0.134->matplot)\n",
      "  Downloading pkginfo-1.9.6-py3-none-any.whl (30 kB)\n",
      "Collecting readme-renderer>=35.0 (from twine->pyloco>=0.0.134->matplot)\n",
      "  Downloading readme_renderer-42.0-py3-none-any.whl.metadata (2.8 kB)\n",
      "Collecting requests-toolbelt!=0.9.0,>=0.8.0 (from twine->pyloco>=0.0.134->matplot)\n",
      "  Downloading requests_toolbelt-1.0.0-py2.py3-none-any.whl (54 kB)\n",
      "\u001b[2K     \u001b[38;2;114;156;31m━━━━━━━━━━━━━━━━━━━━━━━━━━━━━━━━━━━━━━━━\u001b[0m \u001b[32m54.5/54.5 kB\u001b[0m \u001b[31m11.3 MB/s\u001b[0m eta \u001b[36m0:00:00\u001b[0m\n",
      "\u001b[?25hCollecting importlib-metadata>=3.6 (from twine->pyloco>=0.0.134->matplot)\n",
      "  Downloading importlib_metadata-6.8.0-py3-none-any.whl.metadata (5.1 kB)\n",
      "Collecting keyring>=15.1 (from twine->pyloco>=0.0.134->matplot)\n",
      "  Downloading keyring-24.3.0-py3-none-any.whl.metadata (20 kB)\n",
      "Collecting rfc3986>=1.4.0 (from twine->pyloco>=0.0.134->matplot)\n",
      "  Downloading rfc3986-2.0.0-py2.py3-none-any.whl (31 kB)\n",
      "Collecting rich>=12.0.0 (from twine->pyloco>=0.0.134->matplot)\n",
      "  Downloading rich-13.7.0-py3-none-any.whl.metadata (18 kB)\n",
      "Collecting zipp>=0.5 (from importlib-metadata>=3.6->twine->pyloco>=0.0.134->matplot)\n",
      "  Downloading zipp-3.17.0-py3-none-any.whl.metadata (3.7 kB)\n",
      "Requirement already satisfied: parso<0.9.0,>=0.8.3 in ./venv/lib/python3.10/site-packages (from jedi>=0.16->ipython>=7.23.1->ipykernel->jupyter) (0.8.3)\n",
      "Requirement already satisfied: fqdn in ./venv/lib/python3.10/site-packages (from jsonschema[format-nongpl]>=4.18.0->jupyter-events>=0.9.0->jupyter-server<3,>=2.4.0->notebook) (1.5.1)\n",
      "Requirement already satisfied: isoduration in ./venv/lib/python3.10/site-packages (from jsonschema[format-nongpl]>=4.18.0->jupyter-events>=0.9.0->jupyter-server<3,>=2.4.0->notebook) (20.11.0)\n",
      "Requirement already satisfied: jsonpointer>1.13 in ./venv/lib/python3.10/site-packages (from jsonschema[format-nongpl]>=4.18.0->jupyter-events>=0.9.0->jupyter-server<3,>=2.4.0->notebook) (2.4)\n",
      "Requirement already satisfied: uri-template in ./venv/lib/python3.10/site-packages (from jsonschema[format-nongpl]>=4.18.0->jupyter-events>=0.9.0->jupyter-server<3,>=2.4.0->notebook) (1.3.0)\n",
      "Requirement already satisfied: webcolors>=1.11 in ./venv/lib/python3.10/site-packages (from jsonschema[format-nongpl]>=4.18.0->jupyter-events>=0.9.0->jupyter-server<3,>=2.4.0->notebook) (1.13)\n",
      "Collecting jaraco.classes (from keyring>=15.1->twine->pyloco>=0.0.134->matplot)\n",
      "  Downloading jaraco.classes-3.3.0-py3-none-any.whl.metadata (2.9 kB)\n",
      "Collecting SecretStorage>=3.2 (from keyring>=15.1->twine->pyloco>=0.0.134->matplot)\n",
      "  Downloading SecretStorage-3.3.3-py3-none-any.whl (15 kB)\n",
      "Collecting jeepney>=0.4.2 (from keyring>=15.1->twine->pyloco>=0.0.134->matplot)\n",
      "  Downloading jeepney-0.8.0-py3-none-any.whl (48 kB)\n",
      "\u001b[2K     \u001b[38;2;114;156;31m━━━━━━━━━━━━━━━━━━━━━━━━━━━━━━━━━━━━━━━━\u001b[0m \u001b[32m48.4/48.4 kB\u001b[0m \u001b[31m9.4 MB/s\u001b[0m eta \u001b[36m0:00:00\u001b[0m\n",
      "\u001b[?25hCollecting nh3>=0.2.14 (from readme-renderer>=35.0->twine->pyloco>=0.0.134->matplot)\n",
      "  Downloading nh3-0.2.14-cp37-abi3-manylinux_2_17_x86_64.manylinux2014_x86_64.whl.metadata (1.6 kB)\n",
      "Collecting docutils>=0.13.1 (from readme-renderer>=35.0->twine->pyloco>=0.0.134->matplot)\n",
      "  Downloading docutils-0.20.1-py3-none-any.whl.metadata (2.8 kB)\n",
      "Collecting markdown-it-py>=2.2.0 (from rich>=12.0.0->twine->pyloco>=0.0.134->matplot)\n",
      "  Using cached markdown_it_py-3.0.0-py3-none-any.whl.metadata (6.9 kB)\n",
      "Requirement already satisfied: cffi>=1.0.1 in ./venv/lib/python3.10/site-packages (from argon2-cffi-bindings->argon2-cffi->jupyter-server<3,>=2.4.0->notebook) (1.16.0)\n",
      "Requirement already satisfied: executing>=1.2.0 in ./venv/lib/python3.10/site-packages (from stack-data->ipython>=7.23.1->ipykernel->jupyter) (2.0.1)\n",
      "Requirement already satisfied: asttokens>=2.1.0 in ./venv/lib/python3.10/site-packages (from stack-data->ipython>=7.23.1->ipykernel->jupyter) (2.4.1)\n",
      "Requirement already satisfied: pure-eval in ./venv/lib/python3.10/site-packages (from stack-data->ipython>=7.23.1->ipykernel->jupyter) (0.2.2)\n",
      "Requirement already satisfied: pycparser in ./venv/lib/python3.10/site-packages (from cffi>=1.0.1->argon2-cffi-bindings->argon2-cffi->jupyter-server<3,>=2.4.0->notebook) (2.21)\n",
      "Collecting mdurl~=0.1 (from markdown-it-py>=2.2.0->rich>=12.0.0->twine->pyloco>=0.0.134->matplot)\n",
      "  Using cached mdurl-0.1.2-py3-none-any.whl (10.0 kB)\n",
      "Collecting cryptography>=2.0 (from SecretStorage>=3.2->keyring>=15.1->twine->pyloco>=0.0.134->matplot)\n",
      "  Downloading cryptography-41.0.5-cp37-abi3-manylinux_2_28_x86_64.whl.metadata (5.2 kB)\n",
      "Requirement already satisfied: arrow>=0.15.0 in ./venv/lib/python3.10/site-packages (from isoduration->jsonschema[format-nongpl]>=4.18.0->jupyter-events>=0.9.0->jupyter-server<3,>=2.4.0->notebook) (1.3.0)\n",
      "Collecting more-itertools (from jaraco.classes->keyring>=15.1->twine->pyloco>=0.0.134->matplot)\n",
      "  Downloading more_itertools-10.1.0-py3-none-any.whl.metadata (33 kB)\n",
      "Requirement already satisfied: types-python-dateutil>=2.8.10 in ./venv/lib/python3.10/site-packages (from arrow>=0.15.0->isoduration->jsonschema[format-nongpl]>=4.18.0->jupyter-events>=0.9.0->jupyter-server<3,>=2.4.0->notebook) (2.8.19.14)\n",
      "Downloading importlib_metadata-6.8.0-py3-none-any.whl (22 kB)\n",
      "Downloading keyring-24.3.0-py3-none-any.whl (38 kB)\n",
      "Downloading readme_renderer-42.0-py3-none-any.whl (13 kB)\n",
      "Downloading rich-13.7.0-py3-none-any.whl (240 kB)\n",
      "\u001b[2K   \u001b[38;2;114;156;31m━━━━━━━━━━━━━━━━━━━━━━━━━━━━━━━━━━━━━━━━\u001b[0m \u001b[32m240.6/240.6 kB\u001b[0m \u001b[31m8.9 MB/s\u001b[0m eta \u001b[36m0:00:00\u001b[0m\n",
      "\u001b[?25hDownloading docutils-0.20.1-py3-none-any.whl (572 kB)\n",
      "\u001b[2K   \u001b[38;2;114;156;31m━━━━━━━━━━━━━━━━━━━━━━━━━━━━━━━━━━━━━━━━\u001b[0m \u001b[32m572.7/572.7 kB\u001b[0m \u001b[31m24.2 MB/s\u001b[0m eta \u001b[36m0:00:00\u001b[0m\n",
      "\u001b[?25hUsing cached markdown_it_py-3.0.0-py3-none-any.whl (87 kB)\n",
      "Downloading nh3-0.2.14-cp37-abi3-manylinux_2_17_x86_64.manylinux2014_x86_64.whl (1.7 MB)\n",
      "\u001b[2K   \u001b[38;2;114;156;31m━━━━━━━━━━━━━━━━━━━━━━━━━━━━━━━━━━━━━━━━\u001b[0m \u001b[32m1.7/1.7 MB\u001b[0m \u001b[31m54.1 MB/s\u001b[0m eta \u001b[36m0:00:00\u001b[0m\n",
      "\u001b[?25hDownloading zipp-3.17.0-py3-none-any.whl (7.4 kB)\n",
      "Downloading jaraco.classes-3.3.0-py3-none-any.whl (5.9 kB)\n",
      "Downloading cryptography-41.0.5-cp37-abi3-manylinux_2_28_x86_64.whl (4.4 MB)\n",
      "\u001b[2K   \u001b[38;2;114;156;31m━━━━━━━━━━━━━━━━━━━━━━━━━━━━━━━━━━━━━━━━\u001b[0m \u001b[32m4.4/4.4 MB\u001b[0m \u001b[31m41.1 MB/s\u001b[0m eta \u001b[36m0:00:00\u001b[0mm eta \u001b[36m0:00:01\u001b[0m0:01\u001b[0m\n",
      "\u001b[?25hDownloading more_itertools-10.1.0-py3-none-any.whl (55 kB)\n",
      "\u001b[2K   \u001b[38;2;114;156;31m━━━━━━━━━━━━━━━━━━━━━━━━━━━━━━━━━━━━━━━━\u001b[0m \u001b[32m55.8/55.8 kB\u001b[0m \u001b[31m5.4 MB/s\u001b[0m eta \u001b[36m0:00:00\u001b[0m\n",
      "\u001b[?25hBuilding wheels for collected packages: SimpleWebSocketServer, typing, ushlex\n",
      "  Building wheel for SimpleWebSocketServer (pyproject.toml) ... \u001b[?25ldone\n",
      "\u001b[?25h  Created wheel for SimpleWebSocketServer: filename=SimpleWebSocketServer-0.1.2-py3-none-any.whl size=9663 sha256=d7960970e8253b52124142ee2b8248ca9c01517bab97adbf41f3dcc62b8b505c\n",
      "  Stored in directory: /home/andre/.cache/pip/wheels/af/cb/9d/23ef01c9c26b978be6d29ed456d7348abd0e96b1563049bd63\n",
      "  Building wheel for typing (pyproject.toml) ... \u001b[?25ldone\n",
      "\u001b[?25h  Created wheel for typing: filename=typing-3.7.4.3-py3-none-any.whl size=26308 sha256=57480ada3adc33b725c8cfd205c95d46e6ce22d2efc5ad98969e3fcc44540bd8\n",
      "  Stored in directory: /home/andre/.cache/pip/wheels/7c/d0/9e/1f26ebb66d9e1732e4098bc5a6c2d91f6c9a529838f0284890\n",
      "  Building wheel for ushlex (pyproject.toml) ... \u001b[?25ldone\n",
      "\u001b[?25h  Created wheel for ushlex: filename=ushlex-0.99.1-py3-none-any.whl size=4393 sha256=f79b5b39f18d7b75742ea6f7f3fa55a99318e61369fc68f2008b5fe5c41a49f3\n",
      "  Stored in directory: /home/andre/.cache/pip/wheels/fd/e4/80/4de44668798392eb2f5b24f0130df2f5d28b43cb256bf9c1f9\n",
      "Successfully built SimpleWebSocketServer typing ushlex\n",
      "Installing collected packages: ushlex, SimpleWebSocketServer, nh3, zipp, typing, rfc3986, pkginfo, more-itertools, mdurl, jeepney, docutils, requests-toolbelt, readme-renderer, markdown-it-py, jaraco.classes, importlib-metadata, cryptography, SecretStorage, rich, keyring, twine, pyloco, matplot\n",
      "Successfully installed SecretStorage-3.3.3 SimpleWebSocketServer-0.1.2 cryptography-41.0.5 docutils-0.20.1 importlib-metadata-6.8.0 jaraco.classes-3.3.0 jeepney-0.8.0 keyring-24.3.0 markdown-it-py-3.0.0 matplot-0.1.9 mdurl-0.1.2 more-itertools-10.1.0 nh3-0.2.14 pkginfo-1.9.6 pyloco-0.0.139 readme-renderer-42.0 requests-toolbelt-1.0.0 rfc3986-2.0.0 rich-13.7.0 twine-4.0.2 typing-3.7.4.3 ushlex-0.99.1 zipp-3.17.0\n",
      "Note: you may need to restart the kernel to use updated packages.\n"
     ]
    }
   ],
   "source": [
    "%pip install pandas matplotlib seaborn scikit-learn numpy jupyter notebook kaggle"
   ]
  },
  {
   "cell_type": "code",
   "execution_count": null,
   "metadata": {},
   "outputs": [],
   "source": [
    "!kaggle competitions download -c home-credit-default-risk\n",
    "!mkdir data\n",
    "!unzip home-credit-default-risk.zip -d data/\n",
    "!rm *.zip"
   ]
  },
  {
   "cell_type": "code",
   "execution_count": 22,
   "metadata": {},
   "outputs": [],
   "source": [
    "import pandas as pd\n",
    "import matplotlib.pyplot as plt\n",
    "import seaborn as sns\n",
    "import numpy as np\n",
    "%matplotlib inline\n"
   ]
  },
  {
   "cell_type": "markdown",
   "metadata": {},
   "source": [
    "### Leer los datos"
   ]
  },
  {
   "cell_type": "code",
   "execution_count": 4,
   "metadata": {},
   "outputs": [],
   "source": [
    "# Defino mis variables de interes\n",
    "# (Ver notebook de Analisis Exploratorio de Datos)\n",
    "INTEREST_VARIABLES = [\n",
    "    \"NAME_INCOME_TYPE\",\n",
    "    \"NAME_EDUCATION_TYPE\",\n",
    "    \"NAME_FAMILY_STATUS\",\n",
    "    \"NAME_HOUSING_TYPE\",\n",
    "    \"DAYS_BIRTH\",\n",
    "    \"DAYS_EMPLOYED\",\n",
    "    \"OCCUPATION_TYPE\",\n",
    "    \"ORGANIZATION_TYPE\",\n",
    "    \"CODE_GENDER\",\n",
    "    \"OWN_CAR_AGE\"\n",
    "]"
   ]
  },
  {
   "cell_type": "code",
   "execution_count": 31,
   "metadata": {},
   "outputs": [
    {
     "data": {
      "text/plain": [
       "(307511, 122)"
      ]
     },
     "execution_count": 31,
     "metadata": {},
     "output_type": "execute_result"
    }
   ],
   "source": [
    "# Leer los datos\n",
    "df_train = pd.read_csv(\"data/application_train.csv\")\n",
    "df_train.shape"
   ]
  },
  {
   "cell_type": "code",
   "execution_count": 33,
   "metadata": {},
   "outputs": [],
   "source": [
    "# Separar los datos en variables y variable objetivo\n",
    "X = df_train[INTEREST_VARIABLES]\n",
    "y = df_train.TARGET"
   ]
  },
  {
   "cell_type": "code",
   "execution_count": 7,
   "metadata": {},
   "outputs": [
    {
     "data": {
      "text/html": [
       "<div>\n",
       "<style scoped>\n",
       "    .dataframe tbody tr th:only-of-type {\n",
       "        vertical-align: middle;\n",
       "    }\n",
       "\n",
       "    .dataframe tbody tr th {\n",
       "        vertical-align: top;\n",
       "    }\n",
       "\n",
       "    .dataframe thead th {\n",
       "        text-align: right;\n",
       "    }\n",
       "</style>\n",
       "<table border=\"1\" class=\"dataframe\">\n",
       "  <thead>\n",
       "    <tr style=\"text-align: right;\">\n",
       "      <th></th>\n",
       "      <th>NAME_INCOME_TYPE</th>\n",
       "      <th>NAME_EDUCATION_TYPE</th>\n",
       "      <th>NAME_FAMILY_STATUS</th>\n",
       "      <th>NAME_HOUSING_TYPE</th>\n",
       "      <th>DAYS_BIRTH</th>\n",
       "      <th>DAYS_EMPLOYED</th>\n",
       "      <th>OCCUPATION_TYPE</th>\n",
       "      <th>ORGANIZATION_TYPE</th>\n",
       "      <th>CODE_GENDER</th>\n",
       "      <th>OWN_CAR_AGE</th>\n",
       "    </tr>\n",
       "  </thead>\n",
       "  <tbody>\n",
       "    <tr>\n",
       "      <th>0</th>\n",
       "      <td>Working</td>\n",
       "      <td>Secondary / secondary special</td>\n",
       "      <td>Single / not married</td>\n",
       "      <td>House / apartment</td>\n",
       "      <td>-9461</td>\n",
       "      <td>-637</td>\n",
       "      <td>Laborers</td>\n",
       "      <td>Business Entity Type 3</td>\n",
       "      <td>M</td>\n",
       "      <td>NaN</td>\n",
       "    </tr>\n",
       "    <tr>\n",
       "      <th>1</th>\n",
       "      <td>State servant</td>\n",
       "      <td>Higher education</td>\n",
       "      <td>Married</td>\n",
       "      <td>House / apartment</td>\n",
       "      <td>-16765</td>\n",
       "      <td>-1188</td>\n",
       "      <td>Core staff</td>\n",
       "      <td>School</td>\n",
       "      <td>F</td>\n",
       "      <td>NaN</td>\n",
       "    </tr>\n",
       "    <tr>\n",
       "      <th>2</th>\n",
       "      <td>Working</td>\n",
       "      <td>Secondary / secondary special</td>\n",
       "      <td>Single / not married</td>\n",
       "      <td>House / apartment</td>\n",
       "      <td>-19046</td>\n",
       "      <td>-225</td>\n",
       "      <td>Laborers</td>\n",
       "      <td>Government</td>\n",
       "      <td>M</td>\n",
       "      <td>26.0</td>\n",
       "    </tr>\n",
       "    <tr>\n",
       "      <th>3</th>\n",
       "      <td>Working</td>\n",
       "      <td>Secondary / secondary special</td>\n",
       "      <td>Civil marriage</td>\n",
       "      <td>House / apartment</td>\n",
       "      <td>-19005</td>\n",
       "      <td>-3039</td>\n",
       "      <td>Laborers</td>\n",
       "      <td>Business Entity Type 3</td>\n",
       "      <td>F</td>\n",
       "      <td>NaN</td>\n",
       "    </tr>\n",
       "    <tr>\n",
       "      <th>4</th>\n",
       "      <td>Working</td>\n",
       "      <td>Secondary / secondary special</td>\n",
       "      <td>Single / not married</td>\n",
       "      <td>House / apartment</td>\n",
       "      <td>-19932</td>\n",
       "      <td>-3038</td>\n",
       "      <td>Core staff</td>\n",
       "      <td>Religion</td>\n",
       "      <td>M</td>\n",
       "      <td>NaN</td>\n",
       "    </tr>\n",
       "  </tbody>\n",
       "</table>\n",
       "</div>"
      ],
      "text/plain": [
       "  NAME_INCOME_TYPE            NAME_EDUCATION_TYPE    NAME_FAMILY_STATUS  \\\n",
       "0          Working  Secondary / secondary special  Single / not married   \n",
       "1    State servant               Higher education               Married   \n",
       "2          Working  Secondary / secondary special  Single / not married   \n",
       "3          Working  Secondary / secondary special        Civil marriage   \n",
       "4          Working  Secondary / secondary special  Single / not married   \n",
       "\n",
       "   NAME_HOUSING_TYPE  DAYS_BIRTH  DAYS_EMPLOYED OCCUPATION_TYPE  \\\n",
       "0  House / apartment       -9461           -637        Laborers   \n",
       "1  House / apartment      -16765          -1188      Core staff   \n",
       "2  House / apartment      -19046           -225        Laborers   \n",
       "3  House / apartment      -19005          -3039        Laborers   \n",
       "4  House / apartment      -19932          -3038      Core staff   \n",
       "\n",
       "        ORGANIZATION_TYPE CODE_GENDER  OWN_CAR_AGE  \n",
       "0  Business Entity Type 3           M          NaN  \n",
       "1                  School           F          NaN  \n",
       "2              Government           M         26.0  \n",
       "3  Business Entity Type 3           F          NaN  \n",
       "4                Religion           M          NaN  "
      ]
     },
     "execution_count": 7,
     "metadata": {},
     "output_type": "execute_result"
    }
   ],
   "source": [
    "X.head()"
   ]
  },
  {
   "cell_type": "code",
   "execution_count": 15,
   "metadata": {},
   "outputs": [
    {
     "name": "stdout",
     "output_type": "stream",
     "text": [
      "<class 'pandas.core.frame.DataFrame'>\n",
      "RangeIndex: 307511 entries, 0 to 307510\n",
      "Data columns (total 10 columns):\n",
      " #   Column               Non-Null Count   Dtype  \n",
      "---  ------               --------------   -----  \n",
      " 0   NAME_INCOME_TYPE     307511 non-null  object \n",
      " 1   NAME_EDUCATION_TYPE  307511 non-null  object \n",
      " 2   NAME_FAMILY_STATUS   307511 non-null  object \n",
      " 3   NAME_HOUSING_TYPE    307511 non-null  object \n",
      " 4   DAYS_BIRTH           307511 non-null  int64  \n",
      " 5   DAYS_EMPLOYED        307511 non-null  int64  \n",
      " 6   OCCUPATION_TYPE      211120 non-null  object \n",
      " 7   ORGANIZATION_TYPE    307511 non-null  object \n",
      " 8   CODE_GENDER          307511 non-null  object \n",
      " 9   OWN_CAR_AGE          104582 non-null  float64\n",
      "dtypes: float64(1), int64(2), object(7)\n",
      "memory usage: 23.5+ MB\n"
     ]
    }
   ],
   "source": [
    "# Ver informacion de los datos ya filtrados\n",
    "# con las variables de interes\n",
    "X.info(verbose=True)"
   ]
  },
  {
   "cell_type": "code",
   "execution_count": 12,
   "metadata": {},
   "outputs": [
    {
     "data": {
      "text/plain": [
       "OWN_CAR_AGE            65.990810\n",
       "OCCUPATION_TYPE        31.345545\n",
       "NAME_INCOME_TYPE        0.000000\n",
       "NAME_EDUCATION_TYPE     0.000000\n",
       "NAME_FAMILY_STATUS      0.000000\n",
       "NAME_HOUSING_TYPE       0.000000\n",
       "DAYS_BIRTH              0.000000\n",
       "DAYS_EMPLOYED           0.000000\n",
       "ORGANIZATION_TYPE       0.000000\n",
       "CODE_GENDER             0.000000\n",
       "dtype: float64"
      ]
     },
     "execution_count": 12,
     "metadata": {},
     "output_type": "execute_result"
    }
   ],
   "source": [
    "# Miramos a que columnas debemos de procesarles\n",
    "# los datos nulos.\n",
    "X.isnull().mean().sort_values(ascending=False) * 100"
   ]
  },
  {
   "cell_type": "code",
   "execution_count": 23,
   "metadata": {},
   "outputs": [
    {
     "data": {
      "image/png": "[encoded data removed]",
      "text/plain": [
       "<Figure size 640x480 with 1 Axes>"
      ]
     },
     "metadata": {},
     "output_type": "display_data"
    }
   ],
   "source": [
    "# Boxplot de la variable numerica a la que le faltan datos\n",
    "sns.boxplot(X[\"OWN_CAR_AGE\"])\n",
    "plt.show()"
   ]
  },
  {
   "cell_type": "code",
   "execution_count": null,
   "metadata": {},
   "outputs": [
    {
     "data": {
      "text/plain": [
       "OCCUPATION_TYPE\n",
       "Laborers                 55186\n",
       "Sales staff              32102\n",
       "Core staff               27570\n",
       "Managers                 21371\n",
       "Drivers                  18603\n",
       "High skill tech staff    11380\n",
       "Accountants               9813\n",
       "Medicine staff            8537\n",
       "Security staff            6721\n",
       "Cooking staff             5946\n",
       "Cleaning staff            4653\n",
       "Private service staff     2652\n",
       "Low-skill Laborers        2093\n",
       "Waiters/barmen staff      1348\n",
       "Secretaries               1305\n",
       "Realty agents              751\n",
       "HR staff                   563\n",
       "IT staff                   526\n",
       "Name: count, dtype: int64"
      ]
     },
     "metadata": {},
     "output_type": "display_data"
    }
   ],
   "source": [
    "# Conteo de los valores unicos dentro de la\n",
    "# variable categorica\n",
    "X[\"OCCUPATION_TYPE\"].value_counts()"
   ]
  },
  {
   "cell_type": "markdown",
   "metadata": {},
   "source": [
    "- Para el preprocesamiento de la variable categorica vamos a usar el valor \"unknown\" para su **imputacion**, aunque se podria tambien usar el valor mas frecuente. Pero basandonos en el analisis exploratorio, la primera opcion es la que mas sentido tiene. Tambien, le aplicaremos un One-Hot encoding.\n",
    "\n",
    "- Para el preprocesamiento de la variable numerica vamos a usar el valor \"0\" para su **imputacion**, aunque se podria tambien usar el valor de su mediana, ya que al tener tantos outliers (basado en el boxplot) no seria adecuado usar la media."
   ]
  },
  {
   "cell_type": "markdown",
   "metadata": {},
   "source": [
    "### Preprocesamiento"
   ]
  },
  {
   "cell_type": "code",
   "execution_count": 13,
   "metadata": {},
   "outputs": [],
   "source": [
    "from sklearn.impute import SimpleImputer # Para hacer imputacion a variables\n",
    "from sklearn.preprocessing import OneHotEncoder # Hacer codificacion one-hot (dummies)\n",
    "from sklearn.compose import ColumnTransformer\n",
    "from sklearn.pipeline import Pipeline"
   ]
  },
  {
   "cell_type": "code",
   "execution_count": 14,
   "metadata": {},
   "outputs": [],
   "source": [
    "# Identificar las variables categoricas y numericas\n",
    "numerical_cols = [cname for cname in X.columns if X[cname].dtype in ['int64', 'float64']]\n",
    "categorical_cols = [cname for cname in X.columns if X[cname].dtype in ['object']]"
   ]
  },
  {
   "cell_type": "code",
   "execution_count": 25,
   "metadata": {},
   "outputs": [],
   "source": [
    "# Preprocesamiento para las variables numericas\n",
    "numerical_transformer = SimpleImputer(strategy=\"constant\", fill_value=0)\n",
    "\n",
    "# Preprocesamiento para las variables categoricas\n",
    "categorical_transformer = Pipeline(steps=[\n",
    "    (\"imputer\", SimpleImputer(strategy=\"constant\", fill_value=\"unknown\")),\n",
    "    (\"encoder\", OneHotEncoder(handle_unknown=\"ignore\"))\n",
    "])"
   ]
  },
  {
   "cell_type": "code",
   "execution_count": 27,
   "metadata": {},
   "outputs": [],
   "source": [
    "# Pipeline de procesamiento\n",
    "preprocessor = ColumnTransformer(\n",
    "    transformers=[\n",
    "        (\"num\", numerical_transformer, numerical_cols),\n",
    "        (\"cat\", categorical_transformer, categorical_cols)\n",
    "    ]\n",
    ")"
   ]
  },
  {
   "cell_type": "code",
   "execution_count": 29,
   "metadata": {},
   "outputs": [
    {
     "data": {
      "text/html": [
       "<style>#sk-container-id-1 {color: black;}#sk-container-id-1 pre{padding: 0;}#sk-container-id-1 div.sk-toggleable {background-color: white;}#sk-container-id-1 label.sk-toggleable__label {cursor: pointer;display: block;width: 100%;margin-bottom: 0;padding: 0.3em;box-sizing: border-box;text-align: center;}#sk-container-id-1 label.sk-toggleable__label-arrow:before {content: \"▸\";float: left;margin-right: 0.25em;color: #696969;}#sk-container-id-1 label.sk-toggleable__label-arrow:hover:before {color: black;}#sk-container-id-1 div.sk-estimator:hover label.sk-toggleable__label-arrow:before {color: black;}#sk-container-id-1 div.sk-toggleable__content {max-height: 0;max-width: 0;overflow: hidden;text-align: left;background-color: #f0f8ff;}#sk-container-id-1 div.sk-toggleable__content pre {margin: 0.2em;color: black;border-radius: 0.25em;background-color: #f0f8ff;}#sk-container-id-1 input.sk-toggleable__control:checked~div.sk-toggleable__content {max-height: 200px;max-width: 100%;overflow: auto;}#sk-container-id-1 input.sk-toggleable__control:checked~label.sk-toggleable__label-arrow:before {content: \"▾\";}#sk-container-id-1 div.sk-estimator input.sk-toggleable__control:checked~label.sk-toggleable__label {background-color: #d4ebff;}#sk-container-id-1 div.sk-label input.sk-toggleable__control:checked~label.sk-toggleable__label {background-color: #d4ebff;}#sk-container-id-1 input.sk-hidden--visually {border: 0;clip: rect(1px 1px 1px 1px);clip: rect(1px, 1px, 1px, 1px);height: 1px;margin: -1px;overflow: hidden;padding: 0;position: absolute;width: 1px;}#sk-container-id-1 div.sk-estimator {font-family: monospace;background-color: #f0f8ff;border: 1px dotted black;border-radius: 0.25em;box-sizing: border-box;margin-bottom: 0.5em;}#sk-container-id-1 div.sk-estimator:hover {background-color: #d4ebff;}#sk-container-id-1 div.sk-parallel-item::after {content: \"\";width: 100%;border-bottom: 1px solid gray;flex-grow: 1;}#sk-container-id-1 div.sk-label:hover label.sk-toggleable__label {background-color: #d4ebff;}#sk-container-id-1 div.sk-serial::before {content: \"\";position: absolute;border-left: 1px solid gray;box-sizing: border-box;top: 0;bottom: 0;left: 50%;z-index: 0;}#sk-container-id-1 div.sk-serial {display: flex;flex-direction: column;align-items: center;background-color: white;padding-right: 0.2em;padding-left: 0.2em;position: relative;}#sk-container-id-1 div.sk-item {position: relative;z-index: 1;}#sk-container-id-1 div.sk-parallel {display: flex;align-items: stretch;justify-content: center;background-color: white;position: relative;}#sk-container-id-1 div.sk-item::before, #sk-container-id-1 div.sk-parallel-item::before {content: \"\";position: absolute;border-left: 1px solid gray;box-sizing: border-box;top: 0;bottom: 0;left: 50%;z-index: -1;}#sk-container-id-1 div.sk-parallel-item {display: flex;flex-direction: column;z-index: 1;position: relative;background-color: white;}#sk-container-id-1 div.sk-parallel-item:first-child::after {align-self: flex-end;width: 50%;}#sk-container-id-1 div.sk-parallel-item:last-child::after {align-self: flex-start;width: 50%;}#sk-container-id-1 div.sk-parallel-item:only-child::after {width: 0;}#sk-container-id-1 div.sk-dashed-wrapped {border: 1px dashed gray;margin: 0 0.4em 0.5em 0.4em;box-sizing: border-box;padding-bottom: 0.4em;background-color: white;}#sk-container-id-1 div.sk-label label {font-family: monospace;font-weight: bold;display: inline-block;line-height: 1.2em;}#sk-container-id-1 div.sk-label-container {text-align: center;}#sk-container-id-1 div.sk-container {/* jupyter's `normalize.less` sets `[hidden] { display: none; }` but bootstrap.min.css set `[hidden] { display: none !important; }` so we also need the `!important` here to be able to override the default hidden behavior on the sphinx rendered scikit-learn.org. See: https://github.com/scikit-learn/scikit-learn/issues/21755 */display: inline-block !important;position: relative;}#sk-container-id-1 div.sk-text-repr-fallback {display: none;}</style><div id=\"sk-container-id-1\" class=\"sk-top-container\"><div class=\"sk-text-repr-fallback\"><pre>Pipeline(steps=[(&#x27;preprocessor&#x27;,\n",
       "                 ColumnTransformer(transformers=[(&#x27;num&#x27;,\n",
       "                                                  SimpleImputer(fill_value=0,\n",
       "                                                                strategy=&#x27;constant&#x27;),\n",
       "                                                  [&#x27;DAYS_BIRTH&#x27;,\n",
       "                                                   &#x27;DAYS_EMPLOYED&#x27;,\n",
       "                                                   &#x27;OWN_CAR_AGE&#x27;]),\n",
       "                                                 (&#x27;cat&#x27;,\n",
       "                                                  Pipeline(steps=[(&#x27;imputer&#x27;,\n",
       "                                                                   SimpleImputer(fill_value=&#x27;unknown&#x27;,\n",
       "                                                                                 strategy=&#x27;constant&#x27;)),\n",
       "                                                                  (&#x27;encoder&#x27;,\n",
       "                                                                   OneHotEncoder(handle_unknown=&#x27;ignore&#x27;))]),\n",
       "                                                  [&#x27;NAME_INCOME_TYPE&#x27;,\n",
       "                                                   &#x27;NAME_EDUCATION_TYPE&#x27;,\n",
       "                                                   &#x27;NAME_FAMILY_STATUS&#x27;,\n",
       "                                                   &#x27;NAME_HOUSING_TYPE&#x27;,\n",
       "                                                   &#x27;OCCUPATION_TYPE&#x27;,\n",
       "                                                   &#x27;ORGANIZATION_TYPE&#x27;,\n",
       "                                                   &#x27;CODE_GENDER&#x27;])])),\n",
       "                (&#x27;model&#x27;, RandomForestClassifier(random_state=42))])</pre><b>In a Jupyter environment, please rerun this cell to show the HTML representation or trust the notebook. <br />On GitHub, the HTML representation is unable to render, please try loading this page with nbviewer.org.</b></div><div class=\"sk-container\" hidden><div class=\"sk-item sk-dashed-wrapped\"><div class=\"sk-label-container\"><div class=\"sk-label sk-toggleable\"><input class=\"sk-toggleable__control sk-hidden--visually\" id=\"sk-estimator-id-1\" type=\"checkbox\" ><label for=\"sk-estimator-id-1\" class=\"sk-toggleable__label sk-toggleable__label-arrow\">Pipeline</label><div class=\"sk-toggleable__content\"><pre>Pipeline(steps=[(&#x27;preprocessor&#x27;,\n",
       "                 ColumnTransformer(transformers=[(&#x27;num&#x27;,\n",
       "                                                  SimpleImputer(fill_value=0,\n",
       "                                                                strategy=&#x27;constant&#x27;),\n",
       "                                                  [&#x27;DAYS_BIRTH&#x27;,\n",
       "                                                   &#x27;DAYS_EMPLOYED&#x27;,\n",
       "                                                   &#x27;OWN_CAR_AGE&#x27;]),\n",
       "                                                 (&#x27;cat&#x27;,\n",
       "                                                  Pipeline(steps=[(&#x27;imputer&#x27;,\n",
       "                                                                   SimpleImputer(fill_value=&#x27;unknown&#x27;,\n",
       "                                                                                 strategy=&#x27;constant&#x27;)),\n",
       "                                                                  (&#x27;encoder&#x27;,\n",
       "                                                                   OneHotEncoder(handle_unknown=&#x27;ignore&#x27;))]),\n",
       "                                                  [&#x27;NAME_INCOME_TYPE&#x27;,\n",
       "                                                   &#x27;NAME_EDUCATION_TYPE&#x27;,\n",
       "                                                   &#x27;NAME_FAMILY_STATUS&#x27;,\n",
       "                                                   &#x27;NAME_HOUSING_TYPE&#x27;,\n",
       "                                                   &#x27;OCCUPATION_TYPE&#x27;,\n",
       "                                                   &#x27;ORGANIZATION_TYPE&#x27;,\n",
       "                                                   &#x27;CODE_GENDER&#x27;])])),\n",
       "                (&#x27;model&#x27;, RandomForestClassifier(random_state=42))])</pre></div></div></div><div class=\"sk-serial\"><div class=\"sk-item sk-dashed-wrapped\"><div class=\"sk-label-container\"><div class=\"sk-label sk-toggleable\"><input class=\"sk-toggleable__control sk-hidden--visually\" id=\"sk-estimator-id-2\" type=\"checkbox\" ><label for=\"sk-estimator-id-2\" class=\"sk-toggleable__label sk-toggleable__label-arrow\">preprocessor: ColumnTransformer</label><div class=\"sk-toggleable__content\"><pre>ColumnTransformer(transformers=[(&#x27;num&#x27;,\n",
       "                                 SimpleImputer(fill_value=0,\n",
       "                                               strategy=&#x27;constant&#x27;),\n",
       "                                 [&#x27;DAYS_BIRTH&#x27;, &#x27;DAYS_EMPLOYED&#x27;,\n",
       "                                  &#x27;OWN_CAR_AGE&#x27;]),\n",
       "                                (&#x27;cat&#x27;,\n",
       "                                 Pipeline(steps=[(&#x27;imputer&#x27;,\n",
       "                                                  SimpleImputer(fill_value=&#x27;unknown&#x27;,\n",
       "                                                                strategy=&#x27;constant&#x27;)),\n",
       "                                                 (&#x27;encoder&#x27;,\n",
       "                                                  OneHotEncoder(handle_unknown=&#x27;ignore&#x27;))]),\n",
       "                                 [&#x27;NAME_INCOME_TYPE&#x27;, &#x27;NAME_EDUCATION_TYPE&#x27;,\n",
       "                                  &#x27;NAME_FAMILY_STATUS&#x27;, &#x27;NAME_HOUSING_TYPE&#x27;,\n",
       "                                  &#x27;OCCUPATION_TYPE&#x27;, &#x27;ORGANIZATION_TYPE&#x27;,\n",
       "                                  &#x27;CODE_GENDER&#x27;])])</pre></div></div></div><div class=\"sk-parallel\"><div class=\"sk-parallel-item\"><div class=\"sk-item\"><div class=\"sk-label-container\"><div class=\"sk-label sk-toggleable\"><input class=\"sk-toggleable__control sk-hidden--visually\" id=\"sk-estimator-id-3\" type=\"checkbox\" ><label for=\"sk-estimator-id-3\" class=\"sk-toggleable__label sk-toggleable__label-arrow\">num</label><div class=\"sk-toggleable__content\"><pre>[&#x27;DAYS_BIRTH&#x27;, &#x27;DAYS_EMPLOYED&#x27;, &#x27;OWN_CAR_AGE&#x27;]</pre></div></div></div><div class=\"sk-serial\"><div class=\"sk-item\"><div class=\"sk-estimator sk-toggleable\"><input class=\"sk-toggleable__control sk-hidden--visually\" id=\"sk-estimator-id-4\" type=\"checkbox\" ><label for=\"sk-estimator-id-4\" class=\"sk-toggleable__label sk-toggleable__label-arrow\">SimpleImputer</label><div class=\"sk-toggleable__content\"><pre>SimpleImputer(fill_value=0, strategy=&#x27;constant&#x27;)</pre></div></div></div></div></div></div><div class=\"sk-parallel-item\"><div class=\"sk-item\"><div class=\"sk-label-container\"><div class=\"sk-label sk-toggleable\"><input class=\"sk-toggleable__control sk-hidden--visually\" id=\"sk-estimator-id-5\" type=\"checkbox\" ><label for=\"sk-estimator-id-5\" class=\"sk-toggleable__label sk-toggleable__label-arrow\">cat</label><div class=\"sk-toggleable__content\"><pre>[&#x27;NAME_INCOME_TYPE&#x27;, &#x27;NAME_EDUCATION_TYPE&#x27;, &#x27;NAME_FAMILY_STATUS&#x27;, &#x27;NAME_HOUSING_TYPE&#x27;, &#x27;OCCUPATION_TYPE&#x27;, &#x27;ORGANIZATION_TYPE&#x27;, &#x27;CODE_GENDER&#x27;]</pre></div></div></div><div class=\"sk-serial\"><div class=\"sk-item\"><div class=\"sk-serial\"><div class=\"sk-item\"><div class=\"sk-estimator sk-toggleable\"><input class=\"sk-toggleable__control sk-hidden--visually\" id=\"sk-estimator-id-6\" type=\"checkbox\" ><label for=\"sk-estimator-id-6\" class=\"sk-toggleable__label sk-toggleable__label-arrow\">SimpleImputer</label><div class=\"sk-toggleable__content\"><pre>SimpleImputer(fill_value=&#x27;unknown&#x27;, strategy=&#x27;constant&#x27;)</pre></div></div></div><div class=\"sk-item\"><div class=\"sk-estimator sk-toggleable\"><input class=\"sk-toggleable__control sk-hidden--visually\" id=\"sk-estimator-id-7\" type=\"checkbox\" ><label for=\"sk-estimator-id-7\" class=\"sk-toggleable__label sk-toggleable__label-arrow\">OneHotEncoder</label><div class=\"sk-toggleable__content\"><pre>OneHotEncoder(handle_unknown=&#x27;ignore&#x27;)</pre></div></div></div></div></div></div></div></div></div></div><div class=\"sk-item\"><div class=\"sk-estimator sk-toggleable\"><input class=\"sk-toggleable__control sk-hidden--visually\" id=\"sk-estimator-id-8\" type=\"checkbox\" ><label for=\"sk-estimator-id-8\" class=\"sk-toggleable__label sk-toggleable__label-arrow\">RandomForestClassifier</label><div class=\"sk-toggleable__content\"><pre>RandomForestClassifier(random_state=42)</pre></div></div></div></div></div></div></div>"
      ],
      "text/plain": [
       "Pipeline(steps=[('preprocessor',\n",
       "                 ColumnTransformer(transformers=[('num',\n",
       "                                                  SimpleImputer(fill_value=0,\n",
       "                                                                strategy='constant'),\n",
       "                                                  ['DAYS_BIRTH',\n",
       "                                                   'DAYS_EMPLOYED',\n",
       "                                                   'OWN_CAR_AGE']),\n",
       "                                                 ('cat',\n",
       "                                                  Pipeline(steps=[('imputer',\n",
       "                                                                   SimpleImputer(fill_value='unknown',\n",
       "                                                                                 strategy='constant')),\n",
       "                                                                  ('encoder',\n",
       "                                                                   OneHotEncoder(handle_unknown='ignore'))]),\n",
       "                                                  ['NAME_INCOME_TYPE',\n",
       "                                                   'NAME_EDUCATION_TYPE',\n",
       "                                                   'NAME_FAMILY_STATUS',\n",
       "                                                   'NAME_HOUSING_TYPE',\n",
       "                                                   'OCCUPATION_TYPE',\n",
       "                                                   'ORGANIZATION_TYPE',\n",
       "                                                   'CODE_GENDER'])])),\n",
       "                ('model', RandomForestClassifier(random_state=42))])"
      ]
     },
     "execution_count": 29,
     "metadata": {},
     "output_type": "execute_result"
    }
   ],
   "source": [
    "from sklearn.ensemble import RandomForestClassifier\n",
    "\n",
    "model = RandomForestClassifier(n_estimators=100, random_state=42)\n",
    "\n",
    "pipe = Pipeline(steps=[\n",
    "    (\"preprocessor\", preprocessor),\n",
    "    (\"model\", model)\n",
    "])\n",
    "\n",
    "pipe.fit(X, y)"
   ]
  }
 ],
 "metadata": {
  "kernelspec": {
   "display_name": "venv",
   "language": "python",
   "name": "python3"
  },
  "language_info": {
   "codemirror_mode": {
    "name": "ipython",
    "version": 3
   },
   "file_extension": ".py",
   "mimetype": "text/x-python",
   "name": "python",
   "nbconvert_exporter": "python",
   "pygments_lexer": "ipython3",
   "version": "3.10.12"
  }
 },
 "nbformat": 4,
 "nbformat_minor": 2
}
