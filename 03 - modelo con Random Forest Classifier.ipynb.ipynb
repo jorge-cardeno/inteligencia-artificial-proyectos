{
 "cells": [
  {
   "cell_type": "code",
   "execution_count": null,
   "metadata": {},
   "outputs": [],
   "source": [
    "%pip install -r requirements.txt"
   ]
  },
  {
   "cell_type": "code",
   "execution_count": null,
   "metadata": {},
   "outputs": [],
   "source": [
    "!kaggle competitions download -c home-credit-default-risk\n",
    "!mkdir data\n",
    "!unzip home-credit-default-risk.zip -d data/\n",
    "!rm *.zip"
   ]
  },
  {
   "cell_type": "code",
   "execution_count": 1,
   "metadata": {},
   "outputs": [],
   "source": [
    "from utils import model_pipeline, INTEREST_VARIABLES\n",
    "import pandas as pd\n",
    "import matplotlib.pyplot as plt\n",
    "\n",
    "from sklearn.metrics import (\n",
    "    accuracy_score,\n",
    "    f1_score,\n",
    "    recall_score,\n",
    "    precision_score,\n",
    "    confusion_matrix,\n",
    "    precision_recall_curve,\n",
    "    roc_curve\n",
    ")\n",
    "\n",
    "from sklearn.model_selection import train_test_split\n",
    "from sklearn.ensemble import RandomForestClassifier\n",
    "\n",
    "%matplotlib inline"
   ]
  },
  {
   "cell_type": "code",
   "execution_count": 2,
   "metadata": {},
   "outputs": [],
   "source": [
    "# Leer los datos\n",
    "df_full = pd.read_csv(\"data/application_train.csv\")\n",
    "\n",
    "# Separar las variables de entrenamiento y interes\n",
    "X = df_full[INTEREST_VARIABLES]\n",
    "y = df_full.TARGET\n",
    "\n",
    "# Separar los datos en entrenamiento y testeo\n",
    "X_train, X_test, y_train, y_test = train_test_split(X, y, train_size=0.9, test_size=0.1, random_state=0)"
   ]
  },
  {
   "cell_type": "code",
   "execution_count": 3,
   "metadata": {},
   "outputs": [
    {
     "name": "stdout",
     "output_type": "stream",
     "text": [
      "<class 'pandas.core.frame.DataFrame'>\n",
      "Index: 276759 entries, 131869 to 305711\n",
      "Data columns (total 10 columns):\n",
      " #   Column               Non-Null Count   Dtype  \n",
      "---  ------               --------------   -----  \n",
      " 0   NAME_INCOME_TYPE     276759 non-null  object \n",
      " 1   NAME_EDUCATION_TYPE  276759 non-null  object \n",
      " 2   NAME_FAMILY_STATUS   276759 non-null  object \n",
      " 3   NAME_HOUSING_TYPE    276759 non-null  object \n",
      " 4   DAYS_BIRTH           276759 non-null  int64  \n",
      " 5   DAYS_EMPLOYED        276759 non-null  int64  \n",
      " 6   OCCUPATION_TYPE      189861 non-null  object \n",
      " 7   ORGANIZATION_TYPE    276759 non-null  object \n",
      " 8   CODE_GENDER          276759 non-null  object \n",
      " 9   OWN_CAR_AGE          94140 non-null   float64\n",
      "dtypes: float64(1), int64(2), object(7)\n",
      "memory usage: 23.2+ MB\n"
     ]
    }
   ],
   "source": [
    "X_train.info(verbose=True)"
   ]
  },
  {
   "cell_type": "code",
   "execution_count": 4,
   "metadata": {},
   "outputs": [],
   "source": [
    "# Entrenar el modelo\n",
    "model = model_pipeline(X_train, y_train, RandomForestClassifier())"
   ]
  },
  {
   "cell_type": "code",
   "execution_count": 5,
   "metadata": {},
   "outputs": [],
   "source": [
    "# Hacer prediciones con el modelo\n",
    "preds = model.predict(X_test)\n",
    "\n",
    "# Calcular las metricas para el modelo\n",
    "accuracy = accuracy_score(preds, y_test)\n",
    "precision = precision_score(y_test, preds)\n",
    "recall = recall_score(y_test, preds)\n",
    "f1 = f1_score(y_test, preds)"
   ]
  },
  {
   "cell_type": "code",
   "execution_count": 6,
   "metadata": {},
   "outputs": [
    {
     "name": "stdout",
     "output_type": "stream",
     "text": [
      "Exactitud: 0.9115829864724245\n",
      "Precision: 0.15051020408163265\n",
      "Recall: 0.024130879345603273\n",
      "F1 Score: 0.041593232287627784\n"
     ]
    }
   ],
   "source": [
    "print(\"Exactitud:\", accuracy)\n",
    "print(\"Precision:\", precision)\n",
    "print(\"Recall:\", recall)\n",
    "print(\"F1 Score:\", f1)"
   ]
  }
 ],
 "metadata": {
  "kernelspec": {
   "display_name": "venv",
   "language": "python",
   "name": "python3"
  },
  "language_info": {
   "codemirror_mode": {
    "name": "ipython",
    "version": 3
   },
   "file_extension": ".py",
   "mimetype": "text/x-python",
   "name": "python",
   "nbconvert_exporter": "python",
   "pygments_lexer": "ipython3",
   "version": "3.10.12"
  }
 },
 "nbformat": 4,
 "nbformat_minor": 2
}
